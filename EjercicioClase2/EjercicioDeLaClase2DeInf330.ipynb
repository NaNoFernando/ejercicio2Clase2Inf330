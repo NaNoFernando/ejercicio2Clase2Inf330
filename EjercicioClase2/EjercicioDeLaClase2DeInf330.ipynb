{
 "cells": [
  {
   "cell_type": "code",
   "execution_count": 23,
   "metadata": {},
   "outputs": [],
   "source": [
    "def abinario(n):\n",
    "\ts=\"\"\n",
    "\twhile n>=2:\n",
    "\t\tr=n%2\n",
    "\t\ts = str(r)+s\n",
    "\t\tn=n//2\n",
    "\ts=\"00000000\"+str(n)+s\n",
    "\tres=s[-8:]\n",
    "\treturn res"
   ]
  },
  {
   "cell_type": "code",
   "execution_count": 24,
   "metadata": {},
   "outputs": [],
   "source": [
    "def vcabezal(n):\n",
    "\tp=(n-1)*8\n",
    "\tfor i in range(8):\n",
    "\t\tprint(m[p+i],end=\" \")\n",
    "\tprint()"
   ]
  },
  {
   "cell_type": "code",
   "execution_count": 25,
   "metadata": {},
   "outputs": [],
   "source": [
    "def vdcabezal(n):\n",
    "\tp=(n-1)*8\n",
    "\td=0\n",
    "\tfor i in range(8,0,-1):\n",
    "\t\td=d+m[p+i-1]*(2**(8-i))\n",
    "\t\t#print(i,m[p+i-1])\n",
    "\treturn d"
   ]
  },
  {
   "cell_type": "code",
   "execution_count": 26,
   "metadata": {},
   "outputs": [],
   "source": [
    "def cabezal(p,v):#posicion y valor\n",
    "\ttexto=abinario(v)\n",
    "\tk=(p-1)*8\n",
    "\tfor i in range(8):\n",
    "\t\tm[k+i]=int(texto[i])"
   ]
  },
  {
   "cell_type": "code",
   "execution_count": 69,
   "metadata": {},
   "outputs": [],
   "source": [
    "m=[]\n",
    "for i in range(134):\n",
    "\tm.append(0)\n",
    "m[15]=1"
   ]
  },
  {
   "cell_type": "code",
   "execution_count": 70,
   "metadata": {},
   "outputs": [
    {
     "name": "stdout",
     "output_type": "stream",
     "text": [
      "[0, 0, 0, 0, 0, 0, 0, 0, 0, 0, 0, 0, 0, 0, 0, 1, 0, 0, 0, 0, 0, 0, 0, 0, 0, 0, 0, 0, 0, 0, 0, 0, 0, 0, 0, 0, 0, 0, 0, 0, 0, 0, 0, 0, 0, 0, 0, 0, 0, 0, 0, 0, 0, 0, 0, 0, 0, 0, 0, 0, 0, 0, 0, 0, 0, 0, 0, 0, 0, 0, 0, 0, 0, 0, 0, 0, 0, 0, 0, 0, 0, 0, 0, 0, 0, 0, 0, 0, 0, 0, 0, 0, 0, 0, 0, 0, 0, 0, 0, 0, 0, 0, 0, 0, 0, 0, 0, 0, 0, 0, 0, 0, 0, 0, 0, 0, 0, 0, 0, 0, 0, 0, 0, 0, 0, 0, 0, 0, 0, 0, 0, 0, 0, 0]\n"
     ]
    }
   ],
   "source": [
    "print(m)"
   ]
  },
  {
   "cell_type": "code",
   "execution_count": 78,
   "metadata": {},
   "outputs": [
    {
     "name": "stdout",
     "output_type": "stream",
     "text": [
      "0 1 1 2 3 5 8 13 21 34 55 89 144 233 \n"
     ]
    }
   ],
   "source": [
    "def generandofibo(n):\n",
    "    a=vdcabezal(1)\n",
    "    b=vdcabezal(2)\n",
    "    c=vdcabezal(2)\n",
    "    while a < n:\n",
    "        print(a, end=' ')\n",
    "        cabezal(c,a)\n",
    "        c+=1\n",
    "        a, b = b, a+b\n",
    "    print()\n",
    "#es hasta 240 por que con un ancho de banda se puede llegar solo hasta 233 \n",
    "generandofibo(240)"
   ]
  },
  {
   "cell_type": "code",
   "execution_count": 79,
   "metadata": {},
   "outputs": [
    {
     "name": "stdout",
     "output_type": "stream",
     "text": [
      "[0, 0, 0, 0, 0, 0, 0, 0, 0, 0, 0, 0, 0, 0, 0, 1, 0, 0, 0, 0, 0, 0, 0, 1, 0, 0, 0, 0, 0, 0, 1, 0, 0, 0, 0, 0, 0, 0, 1, 1, 0, 0, 0, 0, 0, 1, 0, 1, 0, 0, 0, 0, 1, 0, 0, 0, 0, 0, 0, 0, 1, 1, 0, 1, 0, 0, 0, 1, 0, 1, 0, 1, 0, 0, 1, 0, 0, 0, 1, 0, 0, 0, 1, 1, 0, 1, 1, 1, 0, 1, 0, 1, 1, 0, 0, 1, 1, 0, 0, 1, 0, 0, 0, 0, 1, 1, 1, 0, 1, 0, 0, 1, 0, 0, 0, 0, 0, 0, 0, 0, 0, 0, 0, 0, 0, 0, 0, 0, 0, 0, 0, 0, 0, 0]\n"
     ]
    }
   ],
   "source": [
    "print(m)"
   ]
  },
  {
   "cell_type": "code",
   "execution_count": 80,
   "metadata": {},
   "outputs": [],
   "source": [
    "def primerosFibo(n):\n",
    "    binario=[]\n",
    "    hexadecimal=[]\n",
    "    for i in range(n):\n",
    "        print(\"--------------------Posicion en la memoria : {}-------------------------\".format((i+1)))\n",
    "        print(\"Decimal : {} \".format(vdcabezal(i+1)))\n",
    "        print(\"Binario : {} \".format(abinario(vdcabezal(i+1))))\n",
    "        \n",
    "        "
   ]
  },
  {
   "cell_type": "code",
   "execution_count": 81,
   "metadata": {},
   "outputs": [
    {
     "name": "stdout",
     "output_type": "stream",
     "text": [
      "--------------------Posicion en la memoria : 1-------------------------\n",
      "Decimal : 0 \n",
      "Binario : 00000000 \n",
      "--------------------Posicion en la memoria : 2-------------------------\n",
      "Decimal : 1 \n",
      "Binario : 00000001 \n",
      "--------------------Posicion en la memoria : 3-------------------------\n",
      "Decimal : 1 \n",
      "Binario : 00000001 \n",
      "--------------------Posicion en la memoria : 4-------------------------\n",
      "Decimal : 2 \n",
      "Binario : 00000010 \n",
      "--------------------Posicion en la memoria : 5-------------------------\n",
      "Decimal : 3 \n",
      "Binario : 00000011 \n",
      "--------------------Posicion en la memoria : 6-------------------------\n",
      "Decimal : 5 \n",
      "Binario : 00000101 \n",
      "--------------------Posicion en la memoria : 7-------------------------\n",
      "Decimal : 8 \n",
      "Binario : 00001000 \n",
      "--------------------Posicion en la memoria : 8-------------------------\n",
      "Decimal : 13 \n",
      "Binario : 00001101 \n",
      "--------------------Posicion en la memoria : 9-------------------------\n",
      "Decimal : 21 \n",
      "Binario : 00010101 \n",
      "--------------------Posicion en la memoria : 10-------------------------\n",
      "Decimal : 34 \n",
      "Binario : 00100010 \n",
      "--------------------Posicion en la memoria : 11-------------------------\n",
      "Decimal : 55 \n",
      "Binario : 00110111 \n",
      "--------------------Posicion en la memoria : 12-------------------------\n",
      "Decimal : 89 \n",
      "Binario : 01011001 \n",
      "--------------------Posicion en la memoria : 13-------------------------\n",
      "Decimal : 144 \n",
      "Binario : 10010000 \n",
      "--------------------Posicion en la memoria : 14-------------------------\n",
      "Decimal : 233 \n",
      "Binario : 11101001 \n"
     ]
    }
   ],
   "source": [
    "#solo admite hasta los primeros 14 numeros fibonacci con un ancho de banda de 24 bits o 3 Bytes\n",
    "primerosFibo(14)"
   ]
  },
  {
   "cell_type": "code",
   "execution_count": null,
   "metadata": {},
   "outputs": [],
   "source": []
  }
 ],
 "metadata": {
  "kernelspec": {
   "display_name": "Python 3",
   "language": "python",
   "name": "python3"
  },
  "language_info": {
   "codemirror_mode": {
    "name": "ipython",
    "version": 3
   },
   "file_extension": ".py",
   "mimetype": "text/x-python",
   "name": "python",
   "nbconvert_exporter": "python",
   "pygments_lexer": "ipython3",
   "version": "3.7.3"
  }
 },
 "nbformat": 4,
 "nbformat_minor": 2
}
